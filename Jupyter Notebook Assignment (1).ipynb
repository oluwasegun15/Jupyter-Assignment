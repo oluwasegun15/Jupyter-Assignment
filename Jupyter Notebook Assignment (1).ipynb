{
  "metadata": {
    "language_info": {
      "codemirror_mode": {
        "name": "python",
        "version": 3
      },
      "file_extension": ".py",
      "mimetype": "text/x-python",
      "name": "python",
      "nbconvert_exporter": "python",
      "pygments_lexer": "ipython3",
      "version": "3.8"
    },
    "kernelspec": {
      "name": "python",
      "display_name": "Pyolite",
      "language": "python"
    }
  },
  "nbformat_minor": 4,
  "nbformat": 4,
  "cells": [
    {
      "cell_type": "markdown",
      "source": "# My Jupyter Notebook on IBM Watson Studio",
      "metadata": {
        "tags": []
      }
    },
    {
      "cell_type": "markdown",
      "source": "<b>Oluwasegun Akindemowo<b>\n    \nData Scientist",
      "metadata": {}
    },
    {
      "cell_type": "markdown",
      "source": "<i>I am interested in Data science because I want to help organizations in the retail sector derive meaningful insights from their operations as well as maximize returns and customer satisfaction.<i>",
      "metadata": {}
    },
    {
      "cell_type": "markdown",
      "source": "### My code is meant to return my first and last name",
      "metadata": {}
    },
    {
      "cell_type": "code",
      "source": "print('Oluwasegun Akindemowo')",
      "metadata": {
        "trusted": true
      },
      "execution_count": 4,
      "outputs": [
        {
          "name": "stdout",
          "text": "Oluwasegun Akindemowo\n",
          "output_type": "stream"
        }
      ]
    },
    {
      "cell_type": "markdown",
      "source": "***",
      "metadata": {}
    },
    {
      "cell_type": "markdown",
      "source": "<b>Areas of Data Science application:<b>\n- Sales anaylsis\n- Customer Sentiment analytics\n- Market Basket analysis\n- Machine Learning and AI for sales Forecast\n\n> <i>\"Data is the future\"<i>",
      "metadata": {}
    },
    {
      "cell_type": "markdown",
      "source": "***",
      "metadata": {}
    },
    {
      "cell_type": "markdown",
      "source": "https://github.com/oluwasegun15/Jupyter-Assignment",
      "metadata": {}
    }
  ]
}